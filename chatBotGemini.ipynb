{
  "nbformat": 4,
  "nbformat_minor": 0,
  "metadata": {
    "colab": {
      "provenance": [],
      "authorship_tag": "ABX9TyMyEXFY3fPUaLwSE4MXlOCW",
      "include_colab_link": true
    },
    "kernelspec": {
      "name": "python3",
      "display_name": "Python 3"
    },
    "language_info": {
      "name": "python"
    }
  },
  "cells": [
    {
      "cell_type": "markdown",
      "metadata": {
        "id": "view-in-github",
        "colab_type": "text"
      },
      "source": [
        "<a href=\"https://colab.research.google.com/github/telessthalita/chat-bot/blob/main/chatBotGemini.ipynb\" target=\"_parent\"><img src=\"https://colab.research.google.com/assets/colab-badge.svg\" alt=\"Open In Colab\"/></a>"
      ]
    },
    {
      "cell_type": "code",
      "execution_count": null,
      "metadata": {
        "id": "5rxYh930yXLe"
      },
      "outputs": [],
      "source": [
        "!pip install -q -U google-generativeai"
      ]
    },
    {
      "cell_type": "code",
      "source": [
        "import google.generativeai as genai"
      ],
      "metadata": {
        "id": "O_CLrvG3yvHE"
      },
      "execution_count": null,
      "outputs": []
    },
    {
      "cell_type": "code",
      "source": [
        "from google.colab import userdata\n",
        "\n",
        "GOOGLE_GEMINI_API_KEY = userdata.get('GOOGLE_GEMINI_API_KEY')\n",
        "\n",
        "genai.configure(api_key=GOOGLE_GEMINI_API_KEY)"
      ],
      "metadata": {
        "id": "NekaY-L6y8Jp"
      },
      "execution_count": null,
      "outputs": []
    },
    {
      "cell_type": "code",
      "source": [
        "for model in genai.list_models():\n",
        "  if 'generateContent' in model.supported_generation_methods:\n",
        "    print(model.name)\n"
      ],
      "metadata": {
        "colab": {
          "base_uri": "https://localhost:8080/",
          "height": 434
        },
        "id": "5lxaOLmW0gPm",
        "outputId": "0ce19b48-4ece-480e-af28-0053ce56a35e"
      },
      "execution_count": null,
      "outputs": [
        {
          "output_type": "stream",
          "name": "stdout",
          "text": [
            "models/gemini-1.0-pro-latest\n",
            "models/gemini-1.0-pro\n",
            "models/gemini-pro\n",
            "models/gemini-1.0-pro-001\n",
            "models/gemini-1.0-pro-vision-latest\n",
            "models/gemini-pro-vision\n",
            "models/gemini-1.5-pro-latest\n",
            "models/gemini-1.5-pro-001\n",
            "models/gemini-1.5-pro-002\n",
            "models/gemini-1.5-pro\n",
            "models/gemini-1.5-pro-exp-0801\n",
            "models/gemini-1.5-pro-exp-0827\n",
            "models/gemini-1.5-flash-latest\n",
            "models/gemini-1.5-flash-001\n",
            "models/gemini-1.5-flash-001-tuning\n",
            "models/gemini-1.5-flash\n",
            "models/gemini-1.5-flash-exp-0827\n",
            "models/gemini-1.5-flash-002\n",
            "models/gemini-1.5-flash-8b\n",
            "models/gemini-1.5-flash-8b-001\n",
            "models/gemini-1.5-flash-8b-latest\n",
            "models/gemini-1.5-flash-8b-exp-0827\n",
            "models/gemini-1.5-flash-8b-exp-0924\n"
          ]
        }
      ]
    },
    {
      "cell_type": "code",
      "source": [
        "model = genai.GenerativeModel('models/gemini-1.5-pro-latest')"
      ],
      "metadata": {
        "id": "50JYPsG71Shp"
      },
      "execution_count": null,
      "outputs": []
    },
    {
      "cell_type": "code",
      "source": [
        "response = model.generate_content(\"Quem criou os modelos de IA Gemini?\")\n",
        "response.text"
      ],
      "metadata": {
        "colab": {
          "base_uri": "https://localhost:8080/",
          "height": 36
        },
        "id": "09XpgMih1f2e",
        "outputId": "ae92823c-6366-4d42-ddf7-22556c9e5687"
      },
      "execution_count": null,
      "outputs": [
        {
          "output_type": "execute_result",
          "data": {
            "text/plain": [
              "'Os modelos de IA Gemini foram criados pelo Google.\\n'"
            ],
            "application/vnd.google.colaboratory.intrinsic+json": {
              "type": "string"
            }
          },
          "metadata": {},
          "execution_count": 12
        }
      ]
    },
    {
      "cell_type": "code",
      "source": [
        "chat = model.start_chat(history=[])\n",
        "\n",
        "prompt = input (\"Esperando prompt:\")\n",
        "\n",
        "while prompt != \"sair\":\n",
        "  response = chat.send_message(prompt)\n",
        "  print(response.text)\n",
        "  prompt = input (\"Esperando prompt:\")\n"
      ],
      "metadata": {
        "colab": {
          "base_uri": "https://localhost:8080/",
          "height": 1000
        },
        "id": "9L6V7c8O161i",
        "outputId": "ff1b119a-3a74-4a14-d818-645e3c801a59"
      },
      "execution_count": null,
      "outputs": [
        {
          "name": "stdout",
          "output_type": "stream",
          "text": [
            "Esperando prompt:como eu faço uma interface bonita no streamlite com um chat bot q fiz no colab\n",
            "Para criar uma interface bonita no Streamlit para o seu chatbot feito no Colab, você pode seguir estes passos:\n",
            "\n",
            "**1. Preparação do Chatbot:**\n",
            "\n",
            "* **Exporte o modelo:** Salve o seu modelo de chatbot em um formato que possa ser carregado no Streamlit. Formatos comuns incluem `.pkl` (pickle), `.joblib` ou `.h5` (para modelos Keras/TensorFlow).\n",
            "* **Crie uma função de predição:**  Esta função receberá a entrada do usuário, processará a entrada (ex: tokenização, limpeza) e usará o modelo carregado para gerar uma resposta. Exemplo:\n",
            "\n",
            "```python\n",
            "import pickle\n",
            "\n",
            "# Carregue o modelo\n",
            "with open(\"seu_modelo.pkl\", \"rb\") as f:\n",
            "    modelo = pickle.load(f)\n",
            "\n",
            "def prever_resposta(mensagem_usuario):\n",
            "    # Pré-processamento da mensagem do usuário (se necessário)\n",
            "    mensagem_processada = processar_mensagem(mensagem_usuario)\n",
            "\n",
            "    # Predição usando o modelo\n",
            "    resposta = modelo.predict(mensagem_processada)\n",
            "\n",
            "    return resposta\n",
            "```\n",
            "\n",
            "**2. Interface Streamlit:**\n",
            "\n",
            "* **Instale o Streamlit:** `pip install streamlit`\n",
            "* **Crie um arquivo Python (ex: `app.py`):**\n",
            "\n",
            "```python\n",
            "import streamlit as st\n",
            "from sua_funcao_chatbot import prever_resposta # Importe a função criada no passo 1\n",
            "\n",
            "# Título da aplicação\n",
            "st.title(\"Meu Chatbot Incrível\")\n",
            "\n",
            "# Armazena o histórico da conversa\n",
            "if \"historico\" not in st.session_state:\n",
            "    st.session_state.historico = []\n",
            "\n",
            "# Exibe o histórico da conversa\n",
            "for mensagem in st.session_state.historico:\n",
            "    st.write(mensagem)\n",
            "\n",
            "# Entrada do usuário\n",
            "mensagem_usuario = st.text_input(\"Você:\")\n",
            "\n",
            "# Botão de enviar\n",
            "if st.button(\"Enviar\"):\n",
            "    resposta_bot = prever_resposta(mensagem_usuario)\n",
            "\n",
            "    # Adiciona a mensagem do usuário e a resposta do bot ao histórico\n",
            "    st.session_state.historico.append(f\"Você: {mensagem_usuario}\")\n",
            "    st.session_state.historico.append(f\"Bot: {resposta_bot}\")\n",
            "\n",
            "    # Limpa a caixa de entrada\n",
            "    st.text_input(\"Você:\", value=\"\")\n",
            "\n",
            "    # Atualiza a tela com o histórico e a nova resposta\n",
            "    st.experimental_rerun()\n",
            "```\n",
            "\n",
            "\n",
            "**3. Melhorando a aparência:**\n",
            "\n",
            "* **CSS personalizado:** Adicione CSS personalizado para estilizar a interface.  Crie um arquivo `.css` (ex: `style.css`) e importe-o no seu código Streamlit:\n",
            "\n",
            "```python\n",
            "import streamlit as st\n",
            "\n",
            "# Importa o CSS\n",
            "st.markdown(\n",
            "    \"\"\"\n",
            "    <link rel=\"stylesheet\" href=\"style.css\">\n",
            "    \"\"\",\n",
            "    unsafe_allow_html=True,\n",
            ")\n",
            "\n",
            "# ... resto do código ...\n",
            "```\n",
            "\n",
            "Exemplo de `style.css`:\n",
            "\n",
            "```css\n",
            ".stTextInput > div > div > input {\n",
            "    border-radius: 20px;\n",
            "    padding: 10px;\n",
            "    border: 2px solid #4CAF50; /* Cor da borda */\n",
            "}\n",
            "\n",
            ".stButton > button {\n",
            "    background-color: #4CAF50; /* Cor de fundo do botão */\n",
            "    color: white;\n",
            "    padding: 10px 20px;\n",
            "    border: none;\n",
            "    border-radius: 5px;\n",
            "    cursor: pointer;\n",
            "}\n",
            "```\n",
            "\n",
            "* **Markdown:** Use Markdown para formatar texto, adicionar títulos, links, imagens, etc.\n",
            "* **Temas:** O Streamlit oferece temas embutidos que podem ser alternados nas configurações.\n",
            "* **Bibliotecas de componentes:** Bibliotecas como o `streamlit-aggrid` permitem criar tabelas interativas e outros componentes visuais.\n",
            "* **Imagens e vídeos:** Incorpore imagens e vídeos para tornar a interface mais atraente.\n",
            "\n",
            "**4. Executando o aplicativo:**\n",
            "\n",
            "No terminal, navegue até o diretório do seu arquivo `app.py` e execute: `streamlit run app.py`\n",
            "\n",
            "\n",
            "**Dicas adicionais:**\n",
            "\n",
            "* **Organização:** Divida o código em funções para melhor legibilidade e manutenção.\n",
            "* **Tratamento de erros:** Implemente tratamento de erros para garantir a robustez do aplicativo.\n",
            "* **Deploy:**  Para compartilhar seu chatbot, considere fazer o deploy em plataformas como o Streamlit Cloud.\n",
            "\n",
            "\n",
            "Este guia fornece uma base sólida para criar uma interface bonita para o seu chatbot. Explore as opções de personalização do Streamlit e adapte-as às suas necessidades. Lembre-se de substituir `\"seu_modelo.pkl\"` pelo nome do seu arquivo de modelo e adaptar a função `prever_resposta` ao seu código específico.\n",
            "Esperando prompt:ok muito obrigada\n",
            "De nada! Se tiver mais alguma dúvida ou precisar de ajuda com algum aspecto específico da implementação, não hesite em perguntar.  Boa sorte com o seu projeto de chatbot!\n",
            "\n",
            "Esperando prompt:sair\n"
          ]
        }
      ]
    }
  ]
}